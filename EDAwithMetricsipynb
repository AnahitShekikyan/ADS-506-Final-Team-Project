{
  "nbformat": 4,
  "nbformat_minor": 0,
  "metadata": {
    "colab": {
      "private_outputs": true,
      "provenance": []
    },
    "kernelspec": {
      "name": "python3",
      "display_name": "Python 3"
    },
    "language_info": {
      "name": "python"
    }
  },
  "cells": [
    {
      "cell_type": "markdown",
      "source": [
        "# **Import Data & Libraries**"
      ],
      "metadata": {
        "id": "mwVAS-3tjzRC"
      }
    },
    {
      "cell_type": "code",
      "source": [
        "#library imports\n",
        "import pandas as pd\n",
        "import numpy as np\n",
        "import seaborn as sns\n",
        "import matplotlib.pyplot as plt\n",
        "from statsmodels.tsa.stattools import adfuller\n",
        "from pandas.plotting import autocorrelation_plot\n",
        "from statsmodels.tsa.seasonal import seasonal_decompose\n",
        "import warnings\n",
        "warnings.filterwarnings(\"ignore\")\n",
        "warnings.filterwarnings(\"ignore\", category=UserWarning)"
      ],
      "metadata": {
        "id": "mAj9uUinXMab"
      },
      "execution_count": null,
      "outputs": []
    },
    {
      "cell_type": "code",
      "source": [
        "#importing data\n",
        "from google.colab import drive\n",
        "drive.mount('/content/drive')\n",
        "df_day = pd.read_csv('day.csv')\n",
        "df_hour = pd.read_csv('hour.csv')"
      ],
      "metadata": {
        "id": "lEl8FL_83KZw"
      },
      "execution_count": null,
      "outputs": []
    },
    {
      "cell_type": "code",
      "source": [
        "df_day.head()"
      ],
      "metadata": {
        "id": "tPBY58HfT6Vi"
      },
      "execution_count": null,
      "outputs": []
    },
    {
      "cell_type": "code",
      "source": [
        "df_hour.head()"
      ],
      "metadata": {
        "id": "9YG4ffFqUwnn"
      },
      "execution_count": null,
      "outputs": []
    },
    {
      "cell_type": "markdown",
      "source": [
        "# **Basic Data Information**"
      ],
      "metadata": {
        "id": "rSn-_bhXlc9v"
      }
    },
    {
      "cell_type": "code",
      "source": [
        "# printing information about data\n",
        "df_day.info()\n",
        "df_hour.info()"
      ],
      "metadata": {
        "id": "CZr5igbnUJFM"
      },
      "execution_count": null,
      "outputs": []
    },
    {
      "cell_type": "markdown",
      "source": [
        "The Bike Sharing dataset contains two primary dataframes, one with 731 entries representing daily aggregated data and another with 17,379 entries for hourly data. Both datasets are comprehensive, with all columns showing no missing values, indicating a high level of data completeness.\n",
        "\n",
        "The data is well-structured, consisting mainly of numeric variables (integers and floats) along with a date column (dteday). The features include essential information about weather conditions, dates, times, and bike usage, categorized into casual and registered users, which can be aggregated to compute the total bike count (cnt).\n",
        "\n",
        "The data is suitable for time series analysis and regression modeling. The availability of variables like the weather and temporal factors gaving an opportunity to explore and model the impact of environmental and seasonal patterns on bike rentals. The large dataset size, especially for the hourly data, provides a robust foundation for uncovering both short-term and long-term trends.\n",
        "\n",
        "Future steps could involve to capture cyclical patterns (such as hourly, weekly, and monthly trends), examining correlations between weather variables and bike usage, and implementing predictive models to forecast demand and optimize bike availability."
      ],
      "metadata": {
        "id": "GUzwYMg9VZvd"
      }
    },
    {
      "cell_type": "code",
      "source": [
        "# printing basic describtion about day and hour datasets\n",
        "df_day.describe()\n",
        "df_hour.describe()"
      ],
      "metadata": {
        "id": "-Z29GEQLVoTw"
      },
      "execution_count": null,
      "outputs": []
    },
    {
      "cell_type": "markdown",
      "source": [
        "The descriptive statisticsit for both day and hour datasets shows a comprehensive overview of the distributions and characteristics of the features.\n",
        "\n",
        "**Temporal Variables:** The \"hr\" column ranges from 0 to 23, indicating a 24-hour cycle. The \"season\" and \"mnth\" columns capture cyclical patterns across different times of the year, ranging from 1 (spring) to 4 (winter) and from 1 (January) to 12 (December), respectively.\n",
        "\n",
        "**Categorical Features:** The \"holiday\", \"weekday\", \"workingday\", and \"weathersit\" variables provide information about whether a particular hour falls on a holiday or working day, the day of the week, and the weather situation. The low mean value for holiday (0.0288) indicates that bike sharing data predominantly represents non-holiday hours.\n",
        "\n",
        "**Weather-Related Features:** The \"temp\" and \"atemp\" columns represent the normalized temperature and feels-like temperature, while 'hum\" (humidity) and \"windspeed\" also play a role in understanding the impact of weather on bike rentals. The mean values suggest mild weather on average, but the maximum humidity and relatively high wind speeds might impact bike usage during extreme conditions.\n",
        "\n",
        "**Bike Rental Variables:** The average number of \"casual\" and \"registered\" users per hour is 35.68 and 153.79, respectively, leading to a total average count (\"cnt\") of 189.46 bike rentals per hour. The standard deviations indicate considerable variability in bike usage, likely influenced by temporal, seasonal, and weather factors.\n",
        "\n",
        "\n",
        "**Data Distribution:** The minimum and maximum values highlight the wide range of bike rentals, from no rentals at certain hours to a peak of 977 rentals in an hour. Additionally, the quartile values show that bike rentals are often concentrated at lower counts, with a significant increase in registered users compared to casual users.\n",
        "\n",
        "This discribtion will help to model and identify key features that influence bike demand, explore hourly and daily trends, and forecast future bike usage effectively."
      ],
      "metadata": {
        "id": "pio9X6KxDzHN"
      }
    },
    {
      "cell_type": "code",
      "source": [
        "# converting date to numeric\n",
        "df_hour['dteday'] = pd.to_datetime(df_hour['dteday'])\n",
        "\n",
        "# adding new features like day of the year\n",
        "df_hour['day_of_year'] = df_hour['dteday'].dt.dayofyear"
      ],
      "metadata": {
        "id": "3miRHZWzu5DJ"
      },
      "execution_count": null,
      "outputs": []
    },
    {
      "cell_type": "markdown",
      "source": [
        "# **Data Visualization and Distribution Analysis**"
      ],
      "metadata": {
        "id": "491vQorc2ErR"
      }
    },
    {
      "source": [
        "# Distribution of histogram of the \"cnt\" variable (overall pattern of bike usage)\n",
        "sns.histplot(df_hour['cnt'], kde=True) # Changed kde-True to kde=True\n",
        "plt.title(\"Distribution of Bike Rentals\")\n",
        "plt.xlabel(\"Count of Bike Rentals\")\n",
        "#plt.ylabel(\"Frequency\")\n",
        "plt.show()"
      ],
      "cell_type": "code",
      "metadata": {
        "id": "BsIMojcTsDgZ"
      },
      "execution_count": null,
      "outputs": []
    },
    {
      "cell_type": "markdown",
      "source": [
        "Histogram illustrates the distribution of bike rentals, with the x-axis representing the count of bike rentals and the y-axis representing the frequency or count of occurrences. The distribution is heavily right-skewed, indicating that a large number of rental counts are clustered around lower values, with progressively fewer occurrences as the rental count increases. It suggests that low bike rental counts are much more common than higher rental counts."
      ],
      "metadata": {
        "id": "uLh1uySyNZnQ"
      }
    },
    {
      "cell_type": "code",
      "source": [
        "# Scatterplot of temperature, weather, and bike rentals\n",
        "sns.scatterplot(data=df_hour, x='temp', y='cnt', hue='weathersit')\n",
        "plt.title(\"Temperature vs. Bike Rentals\")\n",
        "plt.xlabel(\"Temperature\")\n",
        "plt.ylabel(\"Count of Bike Rentals\")\n",
        "plt.show()"
      ],
      "metadata": {
        "id": "-7uDuvI9sQYY"
      },
      "execution_count": null,
      "outputs": []
    },
    {
      "cell_type": "markdown",
      "source": [
        "The scatterplot provides the relationship between temperature and the count of bike rentals, where x-axis represents temperature, while the y-axis shows the count of bike rentals. Different hues correspond to weather situations (indicated by values 1 through 4 in the legend), with lighter hues representing more favorable weather conditions and darker hues indicating less favorable weather. According to scatterplot, bike rentals generally increase with temperature, suggesting a positive correlation, and the variation in rental counts is affected by different weather conditions."
      ],
      "metadata": {
        "id": "dcKXnP4FOKHO"
      }
    },
    {
      "cell_type": "markdown",
      "source": [
        "# **Correlation Analysis**"
      ],
      "metadata": {
        "id": "s4h6qp2D2RSS"
      }
    },
    {
      "cell_type": "code",
      "source": [
        "# Creating the correlation matrix\n",
        "corr = df_hour.drop(columns=['dteday']).corr()\n",
        "\n",
        "# Creating a mask for the upper triangle\n",
        "mask = np.triu(np.ones_like(corr, dtype=bool))\n",
        "\n",
        "# Creating the heatmap with the mask\n",
        "plt.figure(figsize=(10, 8))\n",
        "sns.heatmap(corr, mask=mask, annot=True, cmap='coolwarm', annot_kws={\"size\": 8})\n",
        "plt.xticks(rotation=45, ha='right')\n",
        "plt.yticks(rotation=0)\n",
        "plt.title('Triangular Correlation Heatmap')\n",
        "plt.show()"
      ],
      "metadata": {
        "id": "lJ77aB49tbsT"
      },
      "execution_count": null,
      "outputs": []
    },
    {
      "cell_type": "markdown",
      "source": [
        "The triangular correlation heatmap shows the relationships between different variables in the bike-sharing dataset. lets explore them:\n",
        "\n",
        "\n",
        "1.   **Temperature and Bike Rentals:** The total count of bike rentals (\"cnt\") is positively correlated with \"temp\" (0.40) and \"atemp\" (0.45). This means that bike rentals tend to increase with higher temperatures.\n",
        "\n",
        "\n",
        "2.   **Yearly Growth:** The \"yr\" variable has a strong positive correlation (0.57) with \"cnt\", indicating that bike rentals increased in the second year compared to the first year.\n",
        "\n",
        "\n",
        "3.   **Registered vs. Casual Users:** The total count (\"cnt\") is highly correlated with \"registered\" users (0.97) and moderately correlated with \"casual\" users (0.69). Registered users contribute significantly more to total rentals compared to casual users.\n",
        "\n",
        "4.   **Weather Impact:** Poor weather conditions (\"weathersit\") and high humidity (\"hum\") have negative correlations with \"cnt\" (-0.14 and -0.32, respectively), meaning fewer rentals occur during bad weather or when humidity is high.\n",
        "\n",
        "\n",
        "1.   **Working Day Effect:** \"workingday\" is negatively correlated with \"casual\" users (-0.35), indicating that casual users are less likely to rent bikes on working days, possibly preferring weekends or holidays.\n",
        "\n",
        "\n",
        "The triangular correlation heatmap reveals several important relationships in the bike-sharing data. Temperature, year, and registered users are key drivers of bike rentals, meaning that rentals increase with higher temperatures, in the second year, and when more registered users are present. On the other hand, adverse weather conditions and high humidity are associated with decreased bike rentals. These insights provide valuable guidance for understanding bike rental trends and can assist in building effective predictive models."
      ],
      "metadata": {
        "id": "7q_7g8gmxT8F"
      }
    },
    {
      "cell_type": "markdown",
      "source": [
        "# **Temporal Analysis**"
      ],
      "metadata": {
        "id": "P22Rv5Ya2390"
      }
    },
    {
      "cell_type": "code",
      "source": [
        "# showing how the number of rentals varies throughout the day by aggregating the \"cnt\" by the \"hr\" column\n",
        "hourly_trend = df_hour.groupby('hr')['cnt'].mean()\n",
        "hourly_trend.plot(kind='line', title='Average Bike Rentals by Hour of Day')\n",
        "plt.xlabel('Hour of Day')\n",
        "plt.ylabel('Average Count of Rentals')\n",
        "plt.show()"
      ],
      "metadata": {
        "id": "ZNMAKChMuDgB"
      },
      "execution_count": null,
      "outputs": []
    },
    {
      "cell_type": "markdown",
      "source": [
        "The line plot provides the average count of bike rentals throughout the hours of the day, where x-axis represents the hour of the day (ranging from 0 to 23), while the y-axis shows the average count of rentals. The plot reveals two prominent peaks: one in the early morning hours, likely corresponding to commuters, and another in the late afternoon to early evening, which may correspond to people returning home or engaging in evening activities. Bike rentals are lowest in the early morning hours, around 3 to 5 AM, and gradually increase as the day progresses, showing distinct usage patterns related to daily routines."
      ],
      "metadata": {
        "id": "pPXdWBe4Qup9"
      }
    },
    {
      "cell_type": "code",
      "source": [
        "# showing how bike rentals vary across weekdays using weekday\n",
        "weekday_trend = df_hour.groupby('weekday')['cnt'].mean()\n",
        "sns.barplot(x=weekday_trend.index, y=weekday_trend.values)\n",
        "plt.title('Average Bike Rentals by Day of the Week')\n",
        "plt.xlabel('Day of the Week')\n",
        "plt.ylabel('Average Count of Rentals')\n",
        "plt.show()"
      ],
      "metadata": {
        "id": "Aoa-wCcR3jpL"
      },
      "execution_count": null,
      "outputs": []
    },
    {
      "cell_type": "markdown",
      "source": [
        "Bar plot shows the average count of bike rentals by day of the week, where x-axis represents the days of the week, coded numerically from 0 to 6, while the y-axis indicates the average count of rentals. The bars appear relatively similar in height, suggesting that bike rentals remain fairly consistent throughout the week, with only slight variations between days. This implies that bike usage does not significantly change from one day to another, possibly reflecting consistent demand across weekdays and weekends."
      ],
      "metadata": {
        "id": "Fd5TDKq6SZgv"
      }
    },
    {
      "cell_type": "code",
      "source": [
        "# Evaluating monthly trends for the seasonal effects\n",
        "monthly_trend = df_hour.groupby('mnth')['cnt'].mean()\n",
        "sns.lineplot(x=monthly_trend.index, y=monthly_trend.values)\n",
        "plt.title('Average Bike Rentals by Month')\n",
        "plt.xlabel('Month')\n",
        "plt.ylabel('Average Count of Rentals')\n",
        "plt.show()"
      ],
      "metadata": {
        "id": "fMhkqFNH364n"
      },
      "execution_count": null,
      "outputs": []
    },
    {
      "cell_type": "markdown",
      "source": [
        "The line plot illustrates the average count of bike rentals over the months of the year, where x-axis represents the months, numbered from 1 (January) to 12 (December), and the y-axis indicates the average count of rentals. The plot shows a clear upward trend from the beginning of the year, peaking around the summer months (June to August), before declining towards the end of the year. This pattern suggests that bike rentals are higher during warmer months, likely due to more favorable weather conditions, and decrease in colder months."
      ],
      "metadata": {
        "id": "EvsWzj8TTK7M"
      }
    },
    {
      "cell_type": "markdown",
      "source": [
        "# **Categorical Feature Analysis**"
      ],
      "metadata": {
        "id": "CyT9TszA4W7Q"
      }
    },
    {
      "cell_type": "code",
      "source": [
        "# bike rentals across different seasons (\"season\") or weather situations (\"weathersit\")\n",
        "sns.boxplot(x='season', y='cnt', data=df_day)\n",
        "plt.title('Bike Rentals by Season')\n",
        "plt.xlabel('Season')\n",
        "plt.ylabel('Count of Rentals')\n",
        "plt.show"
      ],
      "metadata": {
        "id": "eoP8dBEt4WSY"
      },
      "execution_count": null,
      "outputs": []
    },
    {
      "cell_type": "markdown",
      "source": [
        "This box plot represents the distribution of bike rental counts across different seasons, where x-axis shows the seasons (labeled numerically from 1 to 4), and the y-axis indicates the count of bike rentals. Each box represents the interquartile range (IQR), with the line inside the box indicating the median number of rentals. The whiskers extend to show the range of the data, excluding outliers, which are plotted as individual points. The plot shows that bike rentals tend to be lower in season 1 and higher in seasons 2 and 3, suggesting that seasonal changes significantly impact bike rental activity. Season 4 has a moderate number of rentals but shows some variation, with outliers present."
      ],
      "metadata": {
        "id": "n3L2GXd3TwpU"
      }
    },
    {
      "cell_type": "code",
      "source": [
        "# Comparing the average rentals during holidays (holiday == 1) vs non-holidays\n",
        "sns.boxplot(x='holiday', y='cnt', data=df_day)\n",
        "plt.title('Bike Rentals: Holiday vs Non-Holiday')\n",
        "plt.xlabel('Holiday')\n",
        "plt.ylabel('Count of Rentals')\n",
        "plt.show()"
      ],
      "metadata": {
        "id": "bB9Nr3lP5BMf"
      },
      "execution_count": null,
      "outputs": []
    },
    {
      "cell_type": "markdown",
      "source": [
        "This box plot compares the distribution of bike rental counts on non-holidays (0) versus holidays (1). It shows that bike rentals are generally lower on holidays, with a wider spread and a lower median compared to non-holidays."
      ],
      "metadata": {
        "id": "w0sI6KYrW69u"
      }
    },
    {
      "cell_type": "markdown",
      "source": [
        "# **Seasonality Analysis**"
      ],
      "metadata": {
        "id": "1Gysxv-g5jXN"
      }
    },
    {
      "cell_type": "code",
      "source": [
        "# useing seasonal decomposition to break down the time series into trend, seasonal, and residual components\n",
        "\n",
        "result = seasonal_decompose(df_day['cnt'], model='additive', period=365)\n",
        "result.plot()\n",
        "plt.show()"
      ],
      "metadata": {
        "id": "kmvHVabj5l0W"
      },
      "execution_count": null,
      "outputs": []
    },
    {
      "cell_type": "markdown",
      "source": [
        "This time series decomposition plot breaks down the \"cnt\" (count of bike rentals) into three components: \"trend\", \"seasonal\", and \"residual\". This plot suggests that bike rentals have been steadily increasing over time, with noticeable patterns that repeat, likely due to seasons or specific times of the year. However, there are some fluctuations and unexpected variations that can't be fully explained by these patterns, hinting at the influence of random or external factors."
      ],
      "metadata": {
        "id": "_QDDwZ2xXL-C"
      }
    },
    {
      "cell_type": "markdown",
      "source": [
        "# **Outlier Detection**"
      ],
      "metadata": {
        "id": "FQ0CdgVG6zoV"
      }
    },
    {
      "cell_type": "code",
      "source": [
        "# detect any anomalies in the dataset\n",
        "sns.boxplot(data=df_hour[['temp', 'hum', 'windspeed', 'cnt']])\n",
        "plt.title('Outlier Detection in Features')\n",
        "plt.show()"
      ],
      "metadata": {
        "id": "AKqNbPfT6uV1"
      },
      "execution_count": null,
      "outputs": []
    },
    {
      "cell_type": "markdown",
      "source": [
        "According to box plot while \"temp\", \"hum\", and \"windspeed\" have relatively few or minor outliers, the \"cnt\" feature shows many high-value outliers, suggesting that there are days with unusually high bike rental counts compared to the rest."
      ],
      "metadata": {
        "id": "1a_T_v-IYTZu"
      }
    },
    {
      "cell_type": "markdown",
      "source": [
        "# **Feature Engineering Ideas**"
      ],
      "metadata": {
        "id": "zfVwv5Cb7N3J"
      }
    },
    {
      "cell_type": "code",
      "source": [
        "# Creating a new feature combining holiday and weekend indicators\n",
        "df_hour['day_type'] = np.where((df_hour['holiday'] == 1) | (df_hour['weekday'].isin([0, 6])), 'off_day', 'working_day')"
      ],
      "metadata": {
        "id": "hOrtY98b7QQr"
      },
      "execution_count": null,
      "outputs": []
    },
    {
      "cell_type": "code",
      "source": [
        "# Visualizing relationships between key features like \"temp\", 'atemp', \"hum', \"windspeed\", and \"cnt\"\n",
        "sns.pairplot(df_hour[['temp', 'atemp', 'hum', 'windspeed', 'cnt']])\n",
        "plt.show()"
      ],
      "metadata": {
        "id": "PGiFhzev8LPn"
      },
      "execution_count": null,
      "outputs": []
    },
    {
      "cell_type": "markdown",
      "source": [
        "\n",
        "This pair plot visualizes relationships between the features \"temp\", \"atemp\", \"hum\", \"windspeed\", and \"cnt\". It provides insights into potential correlations and distributions within the dataset. A strong positive linear relationship is evident between \"temp\" and \"atemp\", indicating these features are closely related. The scatter plots also show a positive correlation between temperature features (\"temp\" and \"atemp\") and bike rental counts (\"cnt\"), suggesting that higher temperatures may be associated with more rentals. Other features, like \"windspeed\", do not exhibit a clear relationship with \"cnt\"."
      ],
      "metadata": {
        "id": "zMvELZz8Y-lm"
      }
    },
    {
      "cell_type": "markdown",
      "source": [
        "# **Time Series Stationarity Check**\n"
      ],
      "metadata": {
        "id": "RRQ-tdoq8jzM"
      }
    },
    {
      "cell_type": "code",
      "source": [
        "# Time series plot for obvious trends or sesonality\n",
        "df_day['cnt'].plot(title='Bike Rentals Time Series')"
      ],
      "metadata": {
        "id": "GbURnoBLbTrZ"
      },
      "execution_count": null,
      "outputs": []
    },
    {
      "cell_type": "markdown",
      "source": [
        "The time series plot shows the original bike rental data over time. It has a clear upward trend, indicating that the average number of rentals increases over the period. Additionally, there are visible fluctuations, suggesting some potential seasonality or irregular variations."
      ],
      "metadata": {
        "id": "MiUK2EVtcp2w"
      }
    },
    {
      "cell_type": "code",
      "source": [
        "# Applying differencing\n",
        "df_day['cnt_diff'] = df_day['cnt'].diff().dropna()\n",
        "df_day['cnt_diff'].plot(title='Differenced Bike Rentals Time Series')"
      ],
      "metadata": {
        "id": "xn0q7XWybbul"
      },
      "execution_count": null,
      "outputs": []
    },
    {
      "cell_type": "markdown",
      "source": [
        "The differenced time series plot displays the data after applying first-order differencing. This transformation has removed the trend, making the series more stationary, as the values now fluctuate around a mean of zero."
      ],
      "metadata": {
        "id": "rfv5hHAtc5xt"
      }
    },
    {
      "cell_type": "markdown",
      "source": [
        "# **Seasonal Autocorrelation Plot**"
      ],
      "metadata": {
        "id": "2xrP1_IL9nGS"
      }
    },
    {
      "cell_type": "code",
      "source": [
        "# Check for lag correlation\n",
        "autocorrelation_plot(df_day['cnt'])\n",
        "plt.title('Autocorrelation Plot of Bike Rentals')\n",
        "plt.show()"
      ],
      "metadata": {
        "id": "sRTEkdMQ9mw-"
      },
      "execution_count": null,
      "outputs": []
    },
    {
      "cell_type": "markdown",
      "source": [
        "This autocorrelation plot shows how the bike rental counts are correlated with their own past values over different time lags. It starts high at lag 0 and gradually decreases, suggesting that the series has significant autocorrelation at short lags, which diminishes over time. As the lag increases (e.g., moving from 0 to 100, 200, etc.), the autocorrelation drops, meaning that the relationship between the current and past values weakens. The presence of autocorrelation over several lags indicates that past values of bike rentals are informative for predicting future values, and it may suggest the need for further differencing or the inclusion of autoregressive terms in a forecasting model.\n",
        "\n"
      ],
      "metadata": {
        "id": "qIh9KRJTdtlM"
      }
    },
    {
      "cell_type": "markdown",
      "source": [
        "# Metrics and Evalulations"
      ],
      "metadata": {
        "id": "oPwuXJoVhxGA"
      }
    },
    {
      "cell_type": "code",
      "source": [
        "from statsmodels.tsa.stattools import adfuller\n",
        "\n",
        "# Perform ADF Test\n",
        "result = adfuller(df_day['cnt'])  # Replace 'cnt' with your target column name\n",
        "print('ADF Statistic:', result[0])\n",
        "print('p-value:', result[1])\n",
        "\n",
        "# Interpretation\n",
        "if result[1] > 0.05:\n",
        "    print(\"The series is non-stationary. Differencing is required.\")\n",
        "else:\n",
        "    print(\"The series is stationary. Proceed with modeling.\")"
      ],
      "metadata": {
        "id": "WXT_jCC7iwty"
      },
      "execution_count": null,
      "outputs": []
    },
    {
      "cell_type": "code",
      "source": [
        "if result[1] > 0.05:\n",
        "    df_day['cnt_diff'] = df_day['cnt'].diff().dropna()  # Differencing\n",
        "else:\n",
        "    df_day['cnt_diff'] = df_day['cnt']"
      ],
      "metadata": {
        "id": "vsZnivmVizex"
      },
      "execution_count": null,
      "outputs": []
    },
    {
      "cell_type": "code",
      "source": [
        "from statsmodels.tsa.arima.model import ARIMA\n",
        "\n",
        "# Set initial parameters for ARIMA\n",
        "p, d, q = 1, 1, 1  # Replace these with your initial guesses\n",
        "model = ARIMA(df_day['cnt'], order=(p, d, q))\n",
        "arima_fit = model.fit()\n",
        "print(arima_fit.summary())\n",
        "\n",
        "# Forecast next 30 steps\n",
        "forecast_arima = arima_fit.forecast(steps=30)\n",
        "print(\"ARIMA Forecast:\", forecast_arima)"
      ],
      "metadata": {
        "id": "b8aT3wAii1Mr"
      },
      "execution_count": null,
      "outputs": []
    },
    {
      "cell_type": "code",
      "source": [
        "# Random Walk Model\n",
        "df_day['random_walk'] = df_day['cnt'].shift(1)"
      ],
      "metadata": {
        "id": "wJoG0rCWi4Ul"
      },
      "execution_count": null,
      "outputs": []
    },
    {
      "cell_type": "code",
      "source": [
        "from sklearn.metrics import mean_squared_error, mean_absolute_error\n",
        "import numpy as np\n",
        "\n",
        "# Define true values and predictions for the forecast period\n",
        "true_values = df_day['cnt'][-30:]  # Use the last 30 data points\n",
        "arima_predictions = forecast_arima  # Already forecasted for 30 steps\n",
        "\n",
        "# Calculate metrics for ARIMA\n",
        "rmse_arima = np.sqrt(mean_squared_error(true_values, arima_predictions))\n",
        "mae_arima = mean_absolute_error(true_values, arima_predictions)\n",
        "\n",
        "# For Random Walk, use the last 30 points as predictions\n",
        "random_walk_predictions = df_day['random_walk'][-30:]\n",
        "\n",
        "# Calculate metrics for Random Walk\n",
        "rmse_rw = np.sqrt(mean_squared_error(true_values, random_walk_predictions))\n",
        "mae_rw = mean_absolute_error(true_values, random_walk_predictions)\n",
        "\n",
        "print(f\"ARIMA RMSE: {rmse_arima}, MAE: {mae_arima}\")\n",
        "print(f\"Random Walk RMSE: {rmse_rw}, MAE: {mae_rw}\")"
      ],
      "metadata": {
        "id": "o02GB_iti70V"
      },
      "execution_count": null,
      "outputs": []
    },
    {
      "cell_type": "code",
      "source": [
        "import matplotlib.pyplot as plt\n",
        "\n",
        "# Plot actual values vs ARIMA and Random Walk predictions\n",
        "plt.figure(figsize=(10, 6))\n",
        "plt.plot(true_values.index, true_values, label='Actual', color='blue')\n",
        "plt.plot(true_values.index, arima_predictions, label='ARIMA Predictions', linestyle='--', color='orange')\n",
        "plt.plot(true_values.index, random_walk_predictions, label='Random Walk Predictions', linestyle='--', color='green')\n",
        "plt.legend()\n",
        "plt.title('Actual vs Predicted Bike Rentals')\n",
        "plt.xlabel('Date')\n",
        "plt.ylabel('Bike Rentals')\n",
        "plt.show()"
      ],
      "metadata": {
        "id": "hY8ud5U3jUiF"
      },
      "execution_count": null,
      "outputs": []
    },
    {
      "cell_type": "markdown",
      "source": [
        "# Since the ARIMA did not perform well lets double check and find the best ARIMA order. So far Random Walk is performing better."
      ],
      "metadata": {
        "id": "nHvQ2H2NlM3C"
      }
    },
    {
      "cell_type": "code",
      "source": [
        "import itertools\n",
        "\n",
        "p = d = q = range(0, 3)\n",
        "pdq = list(itertools.product(p, d, q))\n",
        "\n",
        "best_aic = float('inf')\n",
        "best_order = None\n",
        "\n",
        "for param in pdq:\n",
        "    try:\n",
        "        model = ARIMA(df_day['cnt'], order=param)\n",
        "        results = model.fit()\n",
        "        if results.aic < best_aic:\n",
        "            best_aic = results.aic\n",
        "            best_order = param\n",
        "    except:\n",
        "        continue\n",
        "\n",
        "print(f\"Best ARIMA order: {best_order} with AIC: {best_aic}\")"
      ],
      "metadata": {
        "id": "SovZIiW5j1Vb"
      },
      "execution_count": null,
      "outputs": []
    },
    {
      "cell_type": "markdown",
      "source": [
        "# Explain:\n",
        "The best ARIMA order as (1, 2, 2) with an AIC of 12037.455. This lower AIC suggests a better fit than the initial parameters."
      ],
      "metadata": {
        "id": "bM3lN2_BkFvO"
      }
    },
    {
      "cell_type": "markdown",
      "source": [
        "# Refit ARIMA with the Order"
      ],
      "metadata": {
        "id": "W2VDvm-8kT92"
      }
    },
    {
      "cell_type": "code",
      "source": [
        "# Fit ARIMA with the optimal order\n",
        "from statsmodels.tsa.arima.model import ARIMA\n",
        "\n",
        "optimal_model = ARIMA(df_day['cnt'], order=(1, 2, 2))\n",
        "optimal_fit = optimal_model.fit()\n",
        "\n",
        "# Print the model summary\n",
        "print(optimal_fit.summary())\n",
        "\n",
        "# Forecast for the next 30 steps\n",
        "forecast_optimal_arima = optimal_fit.forecast(steps=30)\n",
        "print(\"Optimal ARIMA Forecast:\", forecast_optimal_arima)"
      ],
      "metadata": {
        "id": "s1VH-TYRkWru"
      },
      "execution_count": null,
      "outputs": []
    },
    {
      "cell_type": "code",
      "source": [
        "# Define true values for the forecast period\n",
        "true_values = df_day['cnt'][-30:]  # Use the last 30 data points\n",
        "\n",
        "# Calculate metrics for the optimal ARIMA model\n",
        "from sklearn.metrics import mean_squared_error, mean_absolute_error\n",
        "import numpy as np\n",
        "\n",
        "rmse_optimal_arima = np.sqrt(mean_squared_error(true_values, forecast_optimal_arima))\n",
        "mae_optimal_arima = mean_absolute_error(true_values, forecast_optimal_arima)\n",
        "\n",
        "print(f\"Optimal ARIMA RMSE: {rmse_optimal_arima}, MAE: {mae_optimal_arima}\")\n",
        "\n",
        "# Compare with Random Walk\n",
        "random_walk_predictions = df_day['random_walk'][-30:]\n",
        "rmse_rw = np.sqrt(mean_squared_error(true_values, random_walk_predictions))\n",
        "mae_rw = mean_absolute_error(true_values, random_walk_predictions)\n",
        "\n",
        "print(f\"Random Walk RMSE: {rmse_rw}, MAE: {mae_rw}\")"
      ],
      "metadata": {
        "id": "GPnRmLUbkbgG"
      },
      "execution_count": null,
      "outputs": []
    },
    {
      "cell_type": "code",
      "source": [
        "import matplotlib.pyplot as plt\n",
        "\n",
        "# Plot actual values vs optimal ARIMA and Random Walk predictions\n",
        "plt.figure(figsize=(10, 6))\n",
        "plt.plot(true_values.index, true_values, label='Actual', color='blue')\n",
        "plt.plot(true_values.index, forecast_optimal_arima, label='Optimal ARIMA Predictions', linestyle='--', color='orange')\n",
        "plt.plot(true_values.index, random_walk_predictions, label='Random Walk Predictions', linestyle='--', color='green')\n",
        "plt.legend()\n",
        "plt.title('Actual vs Predicted Bike Rentals (Optimal ARIMA)')\n",
        "plt.xlabel('Date')\n",
        "plt.ylabel('Bike Rentals')\n",
        "plt.show()"
      ],
      "metadata": {
        "id": "NmxD8tZgkfgk"
      },
      "execution_count": null,
      "outputs": []
    },
    {
      "cell_type": "markdown",
      "source": [
        "# Summary of Metrics and Evaluations:\n",
        "\n",
        "This code starts by checking if the bike rental data is stable over time. Since it wasn’t, it applied a method called differencing, which subtracts the previous day’s value from the current day to make the data more stable. A simple ARIMA model was tested, but it didn’t do well compared to a basic Random Walk model, which followed the actual data much more closely. Even after finding the best ARIMA settings using trial and error, the results were still flat and missed the ups and downs in the data. The Random Walk model performed better in both numbers and the graph, showing that ARIMA might not be the right choice here. Trying something like a seasonal model (SARIMA) or even machine learning could work better."
      ],
      "metadata": {
        "id": "mQgHnEH2nIZG"
      }
    }
  ]
}