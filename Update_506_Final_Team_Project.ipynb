{
 "cells": [
  {
   "cell_type": "markdown",
   "metadata": {
    "id": "mwVAS-3tjzRC"
   },
   "source": [
    "# **Import Data & Libraries**"
   ]
  },
  {
   "cell_type": "code",
   "execution_count": 1,
   "metadata": {
    "id": "mAj9uUinXMab"
   },
   "outputs": [],
   "source": [
    "#library imports\n",
    "import pandas as pd\n",
    "import numpy as np\n",
    "import seaborn as sns\n",
    "import matplotlib.pyplot as plt\n",
    "from statsmodels.tsa.stattools import adfuller\n",
    "from pandas.plotting import autocorrelation_plot\n",
    "from statsmodels.tsa.seasonal import seasonal_decompose\n",
    "import warnings\n",
    "warnings.filterwarnings(\"ignore\")\n",
    "warnings.filterwarnings(\"ignore\", category=UserWarning)"
   ]
  },
  {
   "cell_type": "code",
   "execution_count": 2,
   "metadata": {
    "id": "lEl8FL_83KZw"
   },
   "outputs": [
    {
     "ename": "ModuleNotFoundError",
     "evalue": "No module named 'google.colab'",
     "output_type": "error",
     "traceback": [
      "\u001b[0;31m---------------------------------------------------------------------------\u001b[0m",
      "\u001b[0;31mModuleNotFoundError\u001b[0m                       Traceback (most recent call last)",
      "Cell \u001b[0;32mIn[2], line 2\u001b[0m\n\u001b[1;32m      1\u001b[0m \u001b[38;5;66;03m#importing data\u001b[39;00m\n\u001b[0;32m----> 2\u001b[0m \u001b[38;5;28;01mfrom\u001b[39;00m \u001b[38;5;21;01mgoogle\u001b[39;00m\u001b[38;5;21;01m.\u001b[39;00m\u001b[38;5;21;01mcolab\u001b[39;00m \u001b[38;5;28;01mimport\u001b[39;00m drive\n\u001b[1;32m      3\u001b[0m drive\u001b[38;5;241m.\u001b[39mmount(\u001b[38;5;124m'\u001b[39m\u001b[38;5;124m/content/drive\u001b[39m\u001b[38;5;124m'\u001b[39m)\n\u001b[1;32m      4\u001b[0m df_day \u001b[38;5;241m=\u001b[39m pd\u001b[38;5;241m.\u001b[39mread_csv(\u001b[38;5;124m'\u001b[39m\u001b[38;5;124mday.csv\u001b[39m\u001b[38;5;124m'\u001b[39m)\n",
      "\u001b[0;31mModuleNotFoundError\u001b[0m: No module named 'google.colab'"
     ]
    }
   ],
   "source": [
    "#importing data\n",
    "from google.colab import drive\n",
    "drive.mount('/content/drive')\n",
    "df_day = pd.read_csv('day.csv')\n",
    "df_hour = pd.read_csv('hour.csv')"
   ]
  },
  {
   "cell_type": "code",
   "execution_count": null,
   "metadata": {
    "id": "tPBY58HfT6Vi"
   },
   "outputs": [],
   "source": [
    "df_day.head()"
   ]
  },
  {
   "cell_type": "code",
   "execution_count": null,
   "metadata": {
    "id": "9YG4ffFqUwnn"
   },
   "outputs": [],
   "source": [
    "df_hour.head()"
   ]
  },
  {
   "cell_type": "markdown",
   "metadata": {
    "id": "rSn-_bhXlc9v"
   },
   "source": [
    "# **Basic Data Information**"
   ]
  },
  {
   "cell_type": "code",
   "execution_count": null,
   "metadata": {
    "id": "CZr5igbnUJFM"
   },
   "outputs": [],
   "source": [
    "# printing information about data\n",
    "df_day.info()\n",
    "df_hour.info()"
   ]
  },
  {
   "cell_type": "markdown",
   "metadata": {
    "id": "GUzwYMg9VZvd"
   },
   "source": [
    "The Bike Sharing dataset contains two primary dataframes, one with 731 entries representing daily aggregated data and another with 17,379 entries for hourly data. Both datasets are comprehensive, with all columns showing no missing values, indicating a high level of data completeness.\n",
    "\n",
    "The data is well-structured, consisting mainly of numeric variables (integers and floats) along with a date column (dteday). The features include essential information about weather conditions, dates, times, and bike usage, categorized into casual and registered users, which can be aggregated to compute the total bike count (cnt).\n",
    "\n",
    "The data is suitable for time series analysis and regression modeling. The availability of variables like the weather and temporal factors gaving an opportunity to explore and model the impact of environmental and seasonal patterns on bike rentals. The large dataset size, especially for the hourly data, provides a robust foundation for uncovering both short-term and long-term trends.\n",
    "\n",
    "Future steps could involve to capture cyclical patterns (such as hourly, weekly, and monthly trends), examining correlations between weather variables and bike usage, and implementing predictive models to forecast demand and optimize bike availability."
   ]
  },
  {
   "cell_type": "code",
   "execution_count": null,
   "metadata": {
    "id": "-Z29GEQLVoTw"
   },
   "outputs": [],
   "source": [
    "# printing basic describtion about day and hour datasets\n",
    "df_day.describe()\n",
    "df_hour.describe()"
   ]
  },
  {
   "cell_type": "markdown",
   "metadata": {
    "id": "pio9X6KxDzHN"
   },
   "source": [
    "The descriptive statisticsit for both day and hour datasets shows a comprehensive overview of the distributions and characteristics of the features.\n",
    "\n",
    "**Temporal Variables:** The \"hr\" column ranges from 0 to 23, indicating a 24-hour cycle. The \"season\" and \"mnth\" columns capture cyclical patterns across different times of the year, ranging from 1 (spring) to 4 (winter) and from 1 (January) to 12 (December), respectively.\n",
    "\n",
    "**Categorical Features:** The \"holiday\", \"weekday\", \"workingday\", and \"weathersit\" variables provide information about whether a particular hour falls on a holiday or working day, the day of the week, and the weather situation. The low mean value for holiday (0.0288) indicates that bike sharing data predominantly represents non-holiday hours.\n",
    "\n",
    "**Weather-Related Features:** The \"temp\" and \"atemp\" columns represent the normalized temperature and feels-like temperature, while 'hum\" (humidity) and \"windspeed\" also play a role in understanding the impact of weather on bike rentals. The mean values suggest mild weather on average, but the maximum humidity and relatively high wind speeds might impact bike usage during extreme conditions.\n",
    "\n",
    "**Bike Rental Variables:** The average number of \"casual\" and \"registered\" users per hour is 35.68 and 153.79, respectively, leading to a total average count (\"cnt\") of 189.46 bike rentals per hour. The standard deviations indicate considerable variability in bike usage, likely influenced by temporal, seasonal, and weather factors.\n",
    "\n",
    "\n",
    "**Data Distribution:** The minimum and maximum values highlight the wide range of bike rentals, from no rentals at certain hours to a peak of 977 rentals in an hour. Additionally, the quartile values show that bike rentals are often concentrated at lower counts, with a significant increase in registered users compared to casual users.\n",
    "\n",
    "This discribtion will help to model and identify key features that influence bike demand, explore hourly and daily trends, and forecast future bike usage effectively."
   ]
  },
  {
   "cell_type": "code",
   "execution_count": null,
   "metadata": {
    "id": "3miRHZWzu5DJ"
   },
   "outputs": [],
   "source": [
    "# converting date to numeric\n",
    "df_hour['dteday'] = pd.to_datetime(df_hour['dteday'])\n",
    "\n",
    "# adding new features like day of the year\n",
    "df_hour['day_of_year'] = df_hour['dteday'].dt.dayofyear"
   ]
  },
  {
   "cell_type": "markdown",
   "metadata": {
    "id": "491vQorc2ErR"
   },
   "source": [
    "# **Data Visualization and Distribution Analysis**"
   ]
  },
  {
   "cell_type": "code",
   "execution_count": null,
   "metadata": {
    "id": "BsIMojcTsDgZ"
   },
   "outputs": [],
   "source": [
    "# Distribution of histogram of the \"cnt\" variable (overall pattern of bike usage)\n",
    "sns.histplot(df_hour['cnt'], kde=True) # Changed kde-True to kde=True\n",
    "plt.title(\"Distribution of Bike Rentals\")\n",
    "plt.xlabel(\"Count of Bike Rentals\")\n",
    "#plt.ylabel(\"Frequency\")\n",
    "plt.show()"
   ]
  },
  {
   "cell_type": "markdown",
   "metadata": {
    "id": "uLh1uySyNZnQ"
   },
   "source": [
    "Histogram illustrates the distribution of bike rentals, with the x-axis representing the count of bike rentals and the y-axis representing the frequency or count of occurrences. The distribution is heavily right-skewed, indicating that a large number of rental counts are clustered around lower values, with progressively fewer occurrences as the rental count increases. It suggests that low bike rental counts are much more common than higher rental counts."
   ]
  },
  {
   "cell_type": "code",
   "execution_count": null,
   "metadata": {
    "id": "-7uDuvI9sQYY"
   },
   "outputs": [],
   "source": [
    "# Scatterplot of temperature, weather, and bike rentals\n",
    "sns.scatterplot(data=df_hour, x='temp', y='cnt', hue='weathersit')\n",
    "plt.title(\"Temperature vs. Bike Rentals\")\n",
    "plt.xlabel(\"Temperature\")\n",
    "plt.ylabel(\"Count of Bike Rentals\")\n",
    "plt.show()"
   ]
  },
  {
   "cell_type": "markdown",
   "metadata": {
    "id": "dcKXnP4FOKHO"
   },
   "source": [
    "The scatterplot provides the relationship between temperature and the count of bike rentals, where x-axis represents temperature, while the y-axis shows the count of bike rentals. Different hues correspond to weather situations (indicated by values 1 through 4 in the legend), with lighter hues representing more favorable weather conditions and darker hues indicating less favorable weather. According to scatterplot, bike rentals generally increase with temperature, suggesting a positive correlation, and the variation in rental counts is affected by different weather conditions."
   ]
  },
  {
   "cell_type": "markdown",
   "metadata": {
    "id": "s4h6qp2D2RSS"
   },
   "source": [
    "# **Correlation Analysis**"
   ]
  },
  {
   "cell_type": "code",
   "execution_count": null,
   "metadata": {
    "id": "lJ77aB49tbsT"
   },
   "outputs": [],
   "source": [
    "# Creating the correlation matrix\n",
    "corr = df_hour.drop(columns=['dteday']).corr()\n",
    "\n",
    "# Creating a mask for the upper triangle\n",
    "mask = np.triu(np.ones_like(corr, dtype=bool))\n",
    "\n",
    "# Creating the heatmap with the mask\n",
    "plt.figure(figsize=(10, 8))\n",
    "sns.heatmap(corr, mask=mask, annot=True, cmap='coolwarm', annot_kws={\"size\": 8})\n",
    "plt.xticks(rotation=45, ha='right')\n",
    "plt.yticks(rotation=0)\n",
    "plt.title('Triangular Correlation Heatmap')\n",
    "plt.show()"
   ]
  },
  {
   "cell_type": "markdown",
   "metadata": {
    "id": "7q_7g8gmxT8F"
   },
   "source": [
    "The triangular correlation heatmap shows the relationships between different variables in the bike-sharing dataset. lets explore them:\n",
    "\n",
    "\n",
    "1.   **Temperature and Bike Rentals:** The total count of bike rentals (\"cnt\") is positively correlated with \"temp\" (0.40) and \"atemp\" (0.45). This means that bike rentals tend to increase with higher temperatures.\n",
    "\n",
    "\n",
    "2.   **Yearly Growth:** The \"yr\" variable has a strong positive correlation (0.57) with \"cnt\", indicating that bike rentals increased in the second year compared to the first year.\n",
    "\n",
    "\n",
    "3.   **Registered vs. Casual Users:** The total count (\"cnt\") is highly correlated with \"registered\" users (0.97) and moderately correlated with \"casual\" users (0.69). Registered users contribute significantly more to total rentals compared to casual users.\n",
    "\n",
    "4.   **Weather Impact:** Poor weather conditions (\"weathersit\") and high humidity (\"hum\") have negative correlations with \"cnt\" (-0.14 and -0.32, respectively), meaning fewer rentals occur during bad weather or when humidity is high.\n",
    "\n",
    "\n",
    "1.   **Working Day Effect:** \"workingday\" is negatively correlated with \"casual\" users (-0.35), indicating that casual users are less likely to rent bikes on working days, possibly preferring weekends or holidays.\n",
    "\n",
    "\n",
    "The triangular correlation heatmap reveals several important relationships in the bike-sharing data. Temperature, year, and registered users are key drivers of bike rentals, meaning that rentals increase with higher temperatures, in the second year, and when more registered users are present. On the other hand, adverse weather conditions and high humidity are associated with decreased bike rentals. These insights provide valuable guidance for understanding bike rental trends and can assist in building effective predictive models."
   ]
  },
  {
   "cell_type": "markdown",
   "metadata": {
    "id": "P22Rv5Ya2390"
   },
   "source": [
    "# **Temporal Analysis**"
   ]
  },
  {
   "cell_type": "code",
   "execution_count": null,
   "metadata": {
    "id": "ZNMAKChMuDgB"
   },
   "outputs": [],
   "source": [
    "# showing how the number of rentals varies throughout the day by aggregating the \"cnt\" by the \"hr\" column\n",
    "hourly_trend = df_hour.groupby('hr')['cnt'].mean()\n",
    "hourly_trend.plot(kind='line', title='Average Bike Rentals by Hour of Day')\n",
    "plt.xlabel('Hour of Day')\n",
    "plt.ylabel('Average Count of Rentals')\n",
    "plt.show()"
   ]
  },
  {
   "cell_type": "markdown",
   "metadata": {
    "id": "pPXdWBe4Qup9"
   },
   "source": [
    "The line plot provides the average count of bike rentals throughout the hours of the day, where x-axis represents the hour of the day (ranging from 0 to 23), while the y-axis shows the average count of rentals. The plot reveals two prominent peaks: one in the early morning hours, likely corresponding to commuters, and another in the late afternoon to early evening, which may correspond to people returning home or engaging in evening activities. Bike rentals are lowest in the early morning hours, around 3 to 5 AM, and gradually increase as the day progresses, showing distinct usage patterns related to daily routines."
   ]
  },
  {
   "cell_type": "code",
   "execution_count": null,
   "metadata": {
    "id": "Aoa-wCcR3jpL"
   },
   "outputs": [],
   "source": [
    "# showing how bike rentals vary across weekdays using weekday\n",
    "weekday_trend = df_hour.groupby('weekday')['cnt'].mean()\n",
    "sns.barplot(x=weekday_trend.index, y=weekday_trend.values)\n",
    "plt.title('Average Bike Rentals by Day of the Week')\n",
    "plt.xlabel('Day of the Week')\n",
    "plt.ylabel('Average Count of Rentals')\n",
    "plt.show()"
   ]
  },
  {
   "cell_type": "markdown",
   "metadata": {
    "id": "Fd5TDKq6SZgv"
   },
   "source": [
    "Bar plot shows the average count of bike rentals by day of the week, where x-axis represents the days of the week, coded numerically from 0 to 6, while the y-axis indicates the average count of rentals. The bars appear relatively similar in height, suggesting that bike rentals remain fairly consistent throughout the week, with only slight variations between days. This implies that bike usage does not significantly change from one day to another, possibly reflecting consistent demand across weekdays and weekends."
   ]
  },
  {
   "cell_type": "code",
   "execution_count": null,
   "metadata": {
    "id": "fMhkqFNH364n"
   },
   "outputs": [],
   "source": [
    "# Evaluating monthly trends for the seasonal effects\n",
    "monthly_trend = df_hour.groupby('mnth')['cnt'].mean()\n",
    "sns.lineplot(x=monthly_trend.index, y=monthly_trend.values)\n",
    "plt.title('Average Bike Rentals by Month')\n",
    "plt.xlabel('Month')\n",
    "plt.ylabel('Average Count of Rentals')\n",
    "plt.show()"
   ]
  },
  {
   "cell_type": "markdown",
   "metadata": {
    "id": "EvsWzj8TTK7M"
   },
   "source": [
    "The line plot illustrates the average count of bike rentals over the months of the year, where x-axis represents the months, numbered from 1 (January) to 12 (December), and the y-axis indicates the average count of rentals. The plot shows a clear upward trend from the beginning of the year, peaking around the summer months (June to August), before declining towards the end of the year. This pattern suggests that bike rentals are higher during warmer months, likely due to more favorable weather conditions, and decrease in colder months."
   ]
  },
  {
   "cell_type": "markdown",
   "metadata": {
    "id": "CyT9TszA4W7Q"
   },
   "source": [
    "# **Categorical Feature Analysis**"
   ]
  },
  {
   "cell_type": "code",
   "execution_count": null,
   "metadata": {
    "id": "eoP8dBEt4WSY"
   },
   "outputs": [],
   "source": [
    "# bike rentals across different seasons (\"season\") or weather situations (\"weathersit\")\n",
    "sns.boxplot(x='season', y='cnt', data=df_day)\n",
    "plt.title('Bike Rentals by Season')\n",
    "plt.xlabel('Season')\n",
    "plt.ylabel('Count of Rentals')\n",
    "plt.show"
   ]
  },
  {
   "cell_type": "markdown",
   "metadata": {
    "id": "n3L2GXd3TwpU"
   },
   "source": [
    "This box plot represents the distribution of bike rental counts across different seasons, where x-axis shows the seasons (labeled numerically from 1 to 4), and the y-axis indicates the count of bike rentals. Each box represents the interquartile range (IQR), with the line inside the box indicating the median number of rentals. The whiskers extend to show the range of the data, excluding outliers, which are plotted as individual points. The plot shows that bike rentals tend to be lower in season 1 and higher in seasons 2 and 3, suggesting that seasonal changes significantly impact bike rental activity. Season 4 has a moderate number of rentals but shows some variation, with outliers present."
   ]
  },
  {
   "cell_type": "code",
   "execution_count": null,
   "metadata": {
    "id": "bB9Nr3lP5BMf"
   },
   "outputs": [],
   "source": [
    "# Comparing the average rentals during holidays (holiday == 1) vs non-holidays\n",
    "sns.boxplot(x='holiday', y='cnt', data=df_day)\n",
    "plt.title('Bike Rentals: Holiday vs Non-Holiday')\n",
    "plt.xlabel('Holiday')\n",
    "plt.ylabel('Count of Rentals')\n",
    "plt.show()"
   ]
  },
  {
   "cell_type": "markdown",
   "metadata": {
    "id": "w0sI6KYrW69u"
   },
   "source": [
    "This box plot compares the distribution of bike rental counts on non-holidays (0) versus holidays (1). It shows that bike rentals are generally lower on holidays, with a wider spread and a lower median compared to non-holidays."
   ]
  },
  {
   "cell_type": "markdown",
   "metadata": {
    "id": "1Gysxv-g5jXN"
   },
   "source": [
    "# **Seasonality Analysis**"
   ]
  },
  {
   "cell_type": "code",
   "execution_count": null,
   "metadata": {
    "id": "kmvHVabj5l0W"
   },
   "outputs": [],
   "source": [
    "# useing seasonal decomposition to break down the time series into trend, seasonal, and residual components\n",
    "\n",
    "result = seasonal_decompose(df_day['cnt'], model='additive', period=365)\n",
    "result.plot()\n",
    "plt.show()"
   ]
  },
  {
   "cell_type": "markdown",
   "metadata": {
    "id": "_QDDwZ2xXL-C"
   },
   "source": [
    "This time series decomposition plot breaks down the \"cnt\" (count of bike rentals) into three components: \"trend\", \"seasonal\", and \"residual\". This plot suggests that bike rentals have been steadily increasing over time, with noticeable patterns that repeat, likely due to seasons or specific times of the year. However, there are some fluctuations and unexpected variations that can't be fully explained by these patterns, hinting at the influence of random or external factors."
   ]
  },
  {
   "cell_type": "markdown",
   "metadata": {
    "id": "FQ0CdgVG6zoV"
   },
   "source": [
    "# **Outlier Detection**"
   ]
  },
  {
   "cell_type": "code",
   "execution_count": null,
   "metadata": {
    "id": "AKqNbPfT6uV1"
   },
   "outputs": [],
   "source": [
    "# detect any anomalies in the dataset\n",
    "sns.boxplot(data=df_hour[['temp', 'hum', 'windspeed', 'cnt']])\n",
    "plt.title('Outlier Detection in Features')\n",
    "plt.show()"
   ]
  },
  {
   "cell_type": "markdown",
   "metadata": {
    "id": "1a_T_v-IYTZu"
   },
   "source": [
    "According to box plot while \"temp\", \"hum\", and \"windspeed\" have relatively few or minor outliers, the \"cnt\" feature shows many high-value outliers, suggesting that there are days with unusually high bike rental counts compared to the rest."
   ]
  },
  {
   "cell_type": "markdown",
   "metadata": {
    "id": "zfVwv5Cb7N3J"
   },
   "source": [
    "# **Feature Engineering Ideas**"
   ]
  },
  {
   "cell_type": "code",
   "execution_count": null,
   "metadata": {
    "id": "hOrtY98b7QQr"
   },
   "outputs": [],
   "source": [
    "# Creating a new feature combining holiday and weekend indicators\n",
    "df_hour['day_type'] = np.where((df_hour['holiday'] == 1) | (df_hour['weekday'].isin([0, 6])), 'off_day', 'working_day')"
   ]
  },
  {
   "cell_type": "code",
   "execution_count": null,
   "metadata": {
    "id": "PGiFhzev8LPn"
   },
   "outputs": [],
   "source": [
    "# Visualizing relationships between key features like \"temp\", 'atemp', \"hum', \"windspeed\", and \"cnt\"\n",
    "sns.pairplot(df_hour[['temp', 'atemp', 'hum', 'windspeed', 'cnt']])\n",
    "plt.show()"
   ]
  },
  {
   "cell_type": "markdown",
   "metadata": {
    "id": "zMvELZz8Y-lm"
   },
   "source": [
    "\n",
    "This pair plot visualizes relationships between the features \"temp\", \"atemp\", \"hum\", \"windspeed\", and \"cnt\". It provides insights into potential correlations and distributions within the dataset. A strong positive linear relationship is evident between \"temp\" and \"atemp\", indicating these features are closely related. The scatter plots also show a positive correlation between temperature features (\"temp\" and \"atemp\") and bike rental counts (\"cnt\"), suggesting that higher temperatures may be associated with more rentals. Other features, like \"windspeed\", do not exhibit a clear relationship with \"cnt\"."
   ]
  },
  {
   "cell_type": "markdown",
   "metadata": {
    "id": "RRQ-tdoq8jzM"
   },
   "source": [
    "# **Time Series Stationarity Check**\n"
   ]
  },
  {
   "cell_type": "code",
   "execution_count": null,
   "metadata": {
    "id": "GbURnoBLbTrZ"
   },
   "outputs": [],
   "source": [
    "# Time series plot for obvious trends or sesonality\n",
    "df_day['cnt'].plot(title='Bike Rentals Time Series')"
   ]
  },
  {
   "cell_type": "markdown",
   "metadata": {
    "id": "MiUK2EVtcp2w"
   },
   "source": [
    "The time series plot shows the original bike rental data over time. It has a clear upward trend, indicating that the average number of rentals increases over the period. Additionally, there are visible fluctuations, suggesting some potential seasonality or irregular variations."
   ]
  },
  {
   "cell_type": "code",
   "execution_count": null,
   "metadata": {
    "id": "xn0q7XWybbul"
   },
   "outputs": [],
   "source": [
    "# Applying differencing\n",
    "df_day['cnt_diff'] = df_day['cnt'].diff().dropna()\n",
    "df_day['cnt_diff'].plot(title='Differenced Bike Rentals Time Series')"
   ]
  },
  {
   "cell_type": "markdown",
   "metadata": {
    "id": "rfv5hHAtc5xt"
   },
   "source": [
    "The differenced time series plot displays the data after applying first-order differencing. This transformation has removed the trend, making the series more stationary, as the values now fluctuate around a mean of zero."
   ]
  },
  {
   "cell_type": "markdown",
   "metadata": {
    "id": "2xrP1_IL9nGS"
   },
   "source": [
    "# **Seasonal Autocorrelation Plot**"
   ]
  },
  {
   "cell_type": "code",
   "execution_count": null,
   "metadata": {
    "id": "sRTEkdMQ9mw-"
   },
   "outputs": [],
   "source": [
    "# Check for lag correlation\n",
    "autocorrelation_plot(df_day['cnt'])\n",
    "plt.title('Autocorrelation Plot of Bike Rentals')\n",
    "plt.show()"
   ]
  },
  {
   "cell_type": "markdown",
   "metadata": {
    "id": "qIh9KRJTdtlM"
   },
   "source": [
    "This autocorrelation plot shows how the bike rental counts are correlated with their own past values over different time lags. It starts high at lag 0 and gradually decreases, suggesting that the series has significant autocorrelation at short lags, which diminishes over time. As the lag increases (e.g., moving from 0 to 100, 200, etc.), the autocorrelation drops, meaning that the relationship between the current and past values weakens. The presence of autocorrelation over several lags indicates that past values of bike rentals are informative for predicting future values, and it may suggest the need for further differencing or the inclusion of autoregressive terms in a forecasting model.\n",
    "\n"
   ]
  },
  {
   "cell_type": "markdown",
   "metadata": {
    "id": "oPwuXJoVhxGA"
   },
   "source": [
    "# Metrics and Evalulations"
   ]
  },
  {
   "cell_type": "code",
   "execution_count": null,
   "metadata": {
    "id": "SFPYwoqsjC7C"
   },
   "outputs": [],
   "source": [
    "import pandas as pd\n",
    "import numpy as np\n",
    "from statsmodels.tsa.arima.model import ARIMA\n",
    "from sklearn.metrics import mean_squared_error, mean_absolute_error\n",
    "import matplotlib.pyplot as plt"
   ]
  },
  {
   "cell_type": "code",
   "execution_count": null,
   "metadata": {
    "id": "xGABNae4jEkJ"
   },
   "outputs": [],
   "source": [
    "# Fit the optimized ARIMA model\n",
    "optimal_order = (1, 2, 2)  # Best parameters identified through grid search\n",
    "arima_model = ARIMA(df_day['cnt'], order=optimal_order)\n",
    "arima_fit = arima_model.fit()\n",
    "\n",
    "# Generate ARIMA forecasts for the last 30 data points\n",
    "forecast_arima = arima_fit.forecast(steps=30)\n",
    "print(\"ARIMA Forecast:\", forecast_arima)"
   ]
  },
  {
   "cell_type": "code",
   "execution_count": null,
   "metadata": {
    "id": "jHmfaiC1jGIX"
   },
   "outputs": [],
   "source": [
    "# Random Walk model (baseline)\n",
    "df_day['random_walk'] = df_day['cnt'].shift(1)\n",
    "\n",
    "# Use the last 30 data points for Random Walk predictions\n",
    "random_walk_predictions = df_day['random_walk'][-30:]"
   ]
  },
  {
   "cell_type": "code",
   "execution_count": null,
   "metadata": {
    "id": "pw50suezjIFQ"
   },
   "outputs": [],
   "source": [
    "# Define true values for the last 30 data points\n",
    "true_values = df_day['cnt'][-30:]\n",
    "\n",
    "# Calculate metrics for ARIMA\n",
    "rmse_arima = np.sqrt(mean_squared_error(true_values, forecast_arima))\n",
    "mae_arima = mean_absolute_error(true_values, forecast_arima)\n",
    "\n",
    "# Calculate metrics for Random Walk\n",
    "rmse_rw = np.sqrt(mean_squared_error(true_values, random_walk_predictions))\n",
    "mae_rw = mean_absolute_error(true_values, random_walk_predictions)\n",
    "\n",
    "# Print results\n",
    "print(f\"ARIMA RMSE: {rmse_arima}, MAE: {mae_arima}\")\n",
    "print(f\"Random Walk RMSE: {rmse_rw}, MAE: {mae_rw}\")"
   ]
  },
  {
   "cell_type": "code",
   "execution_count": null,
   "metadata": {
    "id": "-KbBRCrtjKCx"
   },
   "outputs": [],
   "source": [
    "# Plot actual values vs ARIMA and Random Walk predictions\n",
    "plt.figure(figsize=(10, 6))\n",
    "plt.plot(true_values.index, true_values, label='Actual', color='blue')\n",
    "plt.plot(true_values.index, forecast_arima, label='ARIMA Predictions', linestyle='--', color='orange')\n",
    "plt.plot(true_values.index, random_walk_predictions, label='Random Walk Predictions', linestyle='--', color='green')\n",
    "plt.legend()\n",
    "plt.title('Actual vs Predicted Bike Rentals')\n",
    "plt.xlabel('Date')\n",
    "plt.ylabel('Bike Rentals')\n",
    "plt.show()"
   ]
  },
  {
   "cell_type": "markdown",
   "metadata": {
    "id": "eZag659ppmZK"
   },
   "source": [
    "# Check Quality of the Data"
   ]
  },
  {
   "cell_type": "code",
   "execution_count": null,
   "metadata": {
    "id": "c6t85uzTjOqk"
   },
   "outputs": [],
   "source": [
    "# Check for missing values\n",
    "missing_values = df_day.isnull().sum()\n",
    "print(\"Missing Values in Dataset:\")\n",
    "print(missing_values)\n",
    "\n",
    "# Check summary statistics for variability\n",
    "print(\"Summary Statistics for 'cnt':\")\n",
    "print(df_day['cnt'].describe())"
   ]
  },
  {
   "cell_type": "markdown",
   "metadata": {
    "id": "d93iHc0JprIj"
   },
   "source": [
    "# SARIMA Model"
   ]
  },
  {
   "cell_type": "code",
   "execution_count": null,
   "metadata": {
    "id": "GC4_HeS5jofb"
   },
   "outputs": [],
   "source": [
    "from statsmodels.tsa.statespace.sarimax import SARIMAX\n",
    "\n",
    "# Fit SARIMA model\n",
    "sarima_model = SARIMAX(df_day['cnt'], order=(1, 1, 1), seasonal_order=(1, 1, 1, 12))\n",
    "sarima_fit = sarima_model.fit()\n",
    "\n",
    "# Forecast\n",
    "forecast_sarima = sarima_fit.forecast(steps=30)\n",
    "\n",
    "# Model summary\n",
    "print(sarima_fit.summary())\n",
    "\n",
    "# Plot forecast\n",
    "import matplotlib.pyplot as plt\n",
    "plt.plot(df_day['cnt'], label='Actual')\n",
    "plt.plot(forecast_sarima, label='SARIMA Predictions')\n",
    "plt.legend()\n",
    "plt.show()"
   ]
  },
  {
   "cell_type": "markdown",
   "metadata": {
    "id": "L98rYgeGpgWr"
   },
   "source": [
    "# Practical Forecasting"
   ]
  },
  {
   "cell_type": "code",
   "execution_count": null,
   "metadata": {
    "id": "AC5CpeLGwl9m"
   },
   "outputs": [],
   "source": [
    "# Lagged Rentals (e.g., rentals from the previous day)\n",
    "df_day['lag_1'] = df_day['cnt'].shift(1)\n",
    "df_day['lag_7'] = df_day['cnt'].shift(7)\n",
    "\n",
    "# Add holiday information\n",
    "df_day['holiday'] = df_day['holiday']\n",
    "\n",
    "# Add weather-related variables\n",
    "df_day['temp'] = df_day['temp']\n",
    "df_day['humidity'] = df_day['hum']\n",
    "\n",
    "# Interaction Terms (Working day × Weather)\n",
    "df_day['working_weather'] = df_day['workingday'] * df_day['weathersit']\n",
    "\n",
    "# Drop rows with NaN values created due to lag features\n",
    "df_day.dropna(inplace=True)\n",
    "\n",
    "# Combine features into a new dataset\n",
    "X = pd.concat([\n",
    "    df_day[['temp', 'humidity', 'workingday', 'lag_1', 'lag_7', 'holiday']],\n",
    "    pd.get_dummies(df_day['weather'], drop_first=True)  # Weather dummies\n",
    "], axis=1)\n",
    "y = df_day['cnt']"
   ]
  },
  {
   "cell_type": "code",
   "execution_count": null,
   "metadata": {
    "id": "oSont-wBwnyh"
   },
   "outputs": [],
   "source": [
    "from sklearn.model_selection import train_test_split\n",
    "\n",
    "# Split the data\n",
    "X_train, X_test, y_train, y_test = train_test_split(X, y, test_size=0.2, random_state=42)"
   ]
  },
  {
   "cell_type": "code",
   "execution_count": null,
   "metadata": {
    "id": "KLcu5IY1wpMT"
   },
   "outputs": [],
   "source": [
    "from sklearn.linear_model import LinearRegression\n",
    "\n",
    "# Fit the linear regression model\n",
    "model = LinearRegression()\n",
    "model.fit(X_train, y_train)\n",
    "\n",
    "# Predict on test data\n",
    "y_pred = model.predict(X_test)"
   ]
  },
  {
   "cell_type": "code",
   "execution_count": null,
   "metadata": {
    "id": "uDSjt-HQwq0r"
   },
   "outputs": [],
   "source": [
    "from sklearn.metrics import mean_squared_error, mean_absolute_error\n",
    "import numpy as np\n",
    "\n",
    "# Evaluation metrics\n",
    "rmse = np.sqrt(mean_squared_error(y_test, y_pred))\n",
    "mae = mean_absolute_error(y_test, y_pred)\n",
    "\n",
    "print(f\"Enhanced Model RMSE: {rmse:.2f}, MAE: {mae:.2f}\")"
   ]
  },
  {
   "cell_type": "code",
   "execution_count": null,
   "metadata": {
    "id": "wrk81fpyws26"
   },
   "outputs": [],
   "source": [
    "import matplotlib.pyplot as plt\n",
    "\n",
    "# Plot actual vs predicted\n",
    "plt.figure(figsize=(10, 6))\n",
    "plt.plot(y_test.values, label='Actual', color='blue')\n",
    "plt.plot(y_pred, label='Predicted', color='orange')\n",
    "plt.legend()\n",
    "plt.title('Actual vs Predicted Bike Rentals')\n",
    "plt.xlabel('Observations')\n",
    "plt.ylabel('Bike Rentals')\n",
    "plt.show()"
   ]
  }
 ],
 "metadata": {
  "colab": {
   "cell_execution_strategy": "setup",
   "private_outputs": true,
   "provenance": []
  },
  "kernelspec": {
   "display_name": ".venv",
   "language": "python",
   "name": "python3"
  },
  "language_info": {
   "codemirror_mode": {
    "name": "ipython",
    "version": 3
   },
   "file_extension": ".py",
   "mimetype": "text/x-python",
   "name": "python",
   "nbconvert_exporter": "python",
   "pygments_lexer": "ipython3",
   "version": "3.12.7"
  }
 },
 "nbformat": 4,
 "nbformat_minor": 0
}
